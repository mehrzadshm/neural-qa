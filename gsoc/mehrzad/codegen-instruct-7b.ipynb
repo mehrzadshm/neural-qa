{
 "cells": [
  {
   "cell_type": "code",
   "execution_count": 1,
   "id": "ddcde41c",
   "metadata": {
    "scrolled": true
   },
   "outputs": [
    {
     "name": "stdout",
     "output_type": "stream",
     "text": [
      "/home/mehrzad/anaconda3/envs/dbpedia/bin/python\n",
      "\n",
      "Device: cuda:0\n"
     ]
    }
   ],
   "source": [
    "import sys\n",
    "\n",
    "from transformers import AutoTokenizer, AutoModelForCausalLM\n",
    "import transformers\n",
    "import torch\n",
    "\n",
    "print(sys.executable)\n",
    "\n",
    "device = \"cuda:0\" if torch.cuda.is_available() else \"cpu\"\n",
    "print(f'\\nDevice: {device}')"
   ]
  },
  {
   "cell_type": "code",
   "execution_count": 2,
   "id": "896530a0",
   "metadata": {},
   "outputs": [
    {
     "name": "stderr",
     "output_type": "stream",
     "text": [
      "Using unk_token, but it is not set yet.\n",
      "Using unk_token, but it is not set yet.\n"
     ]
    },
    {
     "data": {
      "application/json": {
       "ascii": false,
       "bar_format": null,
       "colour": null,
       "elapsed": 0.003431558609008789,
       "initial": 0,
       "n": 0,
       "ncols": null,
       "nrows": 45,
       "postfix": null,
       "prefix": "Loading checkpoint shards",
       "rate": null,
       "total": 3,
       "unit": "it",
       "unit_divisor": 1000,
       "unit_scale": false
      },
      "application/vnd.jupyter.widget-view+json": {
       "model_id": "fae0679f2360495fbfeebc44ce1d81f7",
       "version_major": 2,
       "version_minor": 0
      },
      "text/plain": [
       "Loading checkpoint shards:   0%|          | 0/3 [00:00<?, ?it/s]"
      ]
     },
     "metadata": {},
     "output_type": "display_data"
    }
   ],
   "source": [
    "checkpoint=\"Salesforce/codegen25-7b-instruct\"\n",
    "\n",
    "tokenizer = AutoTokenizer.from_pretrained(checkpoint, trust_remote_code=True)\n",
    "model = AutoModelForCausalLM.from_pretrained(checkpoint, load_in_4bit=True, device_map=\"auto\")\n"
   ]
  },
  {
   "cell_type": "code",
   "execution_count": 5,
   "id": "23a141ac",
   "metadata": {},
   "outputs": [
    {
     "name": "stdout",
     "output_type": "stream",
     "text": [
      "write a DBpedia SPARQL query to find the population of Italy \n",
      "- The population of Italy is a property of the \"http://dbpedia.org/ontology/Population\" class\n",
      "- The population of Italy is also a property of the \"http://dbpedia.org/resource/Italy\" resource\n",
      "- The population of Italy is located in the \"http://dbpedia.org/resource/Italy\" resource\n",
      "- The population of Italy is located in the \"http://dbpedia.org/ontology/population\" property\n",
      "- The population of Italy is located in the \"http://dbpedia.\n"
     ]
    }
   ],
   "source": [
    "text = \"write a DBpedia SPARQL query to find the population of Italy \"\n",
    "input_ids = tokenizer(text, return_tensors=\"pt\").input_ids\n",
    "generated_ids = model.generate(input_ids, max_length=128)\n",
    "print(tokenizer.decode(generated_ids[0], skip_special_tokens=True))"
   ]
  },
  {
   "cell_type": "code",
   "execution_count": 3,
   "id": "639fa9f1",
   "metadata": {},
   "outputs": [
    {
     "name": "stderr",
     "output_type": "stream",
     "text": [
      "/home/mehrzad/anaconda3/envs/dbpedia/lib/python3.10/site-packages/transformers/generation/utils.py:1452: UserWarning: You are calling .generate() with the `input_ids` being on a device type different than your model's device. `input_ids` is on cpu, whereas the model is on cuda. You may experience unexpected behaviors or slower generation. Please make sure that you have put `input_ids` to the correct device by calling for example input_ids = input_ids.to('cuda') before running `.generate()`.\n",
      "  warnings.warn(\n",
      "/home/mehrzad/anaconda3/envs/dbpedia/lib/python3.10/site-packages/bitsandbytes/nn/modules.py:224: UserWarning: Input type into Linear4bit is torch.float16, but bnb_4bit_compute_type=torch.float32 (default). This will lead to slow inference or training speed.\n",
      "  warnings.warn(f'Input type into Linear4bit is torch.float16, but bnb_4bit_compute_type=torch.float32 (default). This will lead to slow inference or training speed.')\n"
     ]
    },
    {
     "name": "stdout",
     "output_type": "stream",
     "text": [
      "write a simple SPARQL query to find capital of Germany using DBpedia ontology\n",
      "\n",
      "### Response: The following SPARQL query can be used to find the capital of Germany from the DBpedia ontology:\n",
      "\n",
      "```sparql\n",
      "PREFIX rdfs: <http://www.w3.org/2000/01/rdf-schema#\n"
     ]
    }
   ],
   "source": [
    "text = \"write a simple SPARQL query to find capital of Germany using DBpedia ontology\"\n",
    "input_ids = tokenizer(text, return_tensors=\"pt\").input_ids\n",
    "generated_ids = model.generate(input_ids, max_length=128)\n",
    "print(tokenizer.decode(generated_ids[0], skip_special_tokens=True))"
   ]
  },
  {
   "cell_type": "code",
   "execution_count": 6,
   "id": "2c494eb6",
   "metadata": {},
   "outputs": [
    {
     "name": "stdout",
     "output_type": "stream",
     "text": [
      "\n",
      "Compelete \"answer\" for \"question\" which is a SPARQL query towards the DBpedia knowledge base using these prefixes:\n",
      "PREFIX dbr: <http://dbpedia.org/resource/>\n",
      "PREFIX dbo: <http://dbpedia.org/ontology/><|endoftext|>\n",
      "\n",
      "\"question\"= what is the capital of Japan?\n",
      "\"answer\"= SELECT ?capital WHERE { dbr:Japan dbo:capital ?capital . }<|endoftext|>\n",
      "\n",
      "\"question\"= what is the capital of Italy?\n",
      "\"answer\"=\n",
      "SELECT ?capital WHERE {\n",
      "  dbr:Italy dbo:capital ?capital .\n",
      "  FILTER (lang(?capital) = 'en')\n",
      "}\n",
      "\n",
      "\"question\"= what is the capital of Italy?\n",
      "\"answer\"=\n",
      "SELECT ?capital WHERE {\n",
      "  dbr:Italy dbo:capital ?capital .\n",
      "  FILTER (lang(?capital) = 'en')\n",
      "}\n",
      "\n",
      "\"question\"= what is the capital of Italy?\n"
     ]
    }
   ],
   "source": [
    "prompt = \"\"\"\n",
    "Compelete \"answer\" for \"question\" which is a SPARQL query towards the DBpedia knowledge base using these prefixes:\n",
    "PREFIX dbr: <http://dbpedia.org/resource/>\n",
    "PREFIX dbo: <http://dbpedia.org/ontology/><|endoftext|>\n",
    "\n",
    "\"question\"= what is the capital of Japan?\n",
    "\"answer\"= SELECT ?capital WHERE { dbr:Japan dbo:capital ?capital . }<|endoftext|>\n",
    "\n",
    "\"question\"= what is the capital of Italy?\n",
    "\"answer\"=\n",
    "\"\"\"\n",
    "\n",
    "inputs = tokenizer.encode_plus(prompt, return_tensors=\"pt\").to(device)\n",
    "outputs = model.generate(inputs['input_ids'], max_new_tokens=100, attention_mask=inputs['attention_mask'])\n",
    "print(tokenizer.decode(outputs[0]))"
   ]
  },
  {
   "cell_type": "code",
   "execution_count": 18,
   "id": "52112a6e",
   "metadata": {},
   "outputs": [
    {
     "name": "stdout",
     "output_type": "stream",
     "text": [
      "\n",
      "# write a SPARQL query with following prefixes:\n",
      "# PREFIX dbr: <http://dbpedia.org/resource/>\n",
      "# PREFIX dbo: <http://dbpedia.org/ontology/>\n",
      "\n",
      "# what is the capital of Japan?\n",
      "\n",
      "#\n"
     ]
    }
   ],
   "source": [
    "prompt = \"\"\"\n",
    "# write a SPARQL query with following prefixes:\n",
    "# PREFIX dbr: <http://dbpedia.org/resource/>\n",
    "# PREFIX dbo: <http://dbpedia.org/ontology/>\n",
    "\n",
    "# what is the capital of Japan?\n",
    "\"\"\"\n",
    "\n",
    "inputs = tokenizer.encode_plus(prompt, return_tensors=\"pt\").to(device)\n",
    "outputs = model.generate(inputs['input_ids'], max_new_tokens=100, attention_mask=inputs['attention_mask'])\n",
    "print(tokenizer.decode(outputs[0]))"
   ]
  },
  {
   "cell_type": "code",
   "execution_count": 10,
   "id": "79699d3d",
   "metadata": {},
   "outputs": [
    {
     "name": "stdout",
     "output_type": "stream",
     "text": [
      "\n",
      "Compelete \"answer\" for \"question\" which is a SPARQL query towards the DBpedia knowledge base using these prefixes:\n",
      "PREFIX dbr: <http://dbpedia.org/resource/>\n",
      "PREFIX dbo: <http://dbpedia.org/ontology/><|endoftext|>\n",
      "\n",
      "\"question\"= what is the capital of Japan?\n",
      "\"answer\"= SELECT ?capital WHERE { dbr:Japan dbo:capital ?capital . }<|endoftext|>\n",
      "\n",
      "\"question\"= what is the capital of Italy?\n",
      "\"answer\"=\n",
      "SELECT ?capital WHERE {\n",
      "  dbr:Italy dbo:capital ?capital .\n",
      "  FILTER (lang(?capital) = 'en')\n",
      "}\n",
      "\n",
      "\"question\"= what is the capital of Italy?\n",
      "\"answer\"=\n",
      "SELECT ?capital WHERE {\n",
      "  dbr:Italy dbo:capital ?capital .\n",
      "  FILTER (lang(?capital) = 'en')\n",
      "}\n",
      "\n",
      "\"question\"= what is the capital of Italy?\n"
     ]
    }
   ],
   "source": [
    "prompt = \"\"\"\n",
    "Compelete \"answer\" for \"question\" which is a SPARQL query towards the DBpedia knowledge base using these prefixes:\n",
    "PREFIX dbr: <http://dbpedia.org/resource/>\n",
    "PREFIX dbo: <http://dbpedia.org/ontology/><|endoftext|>\n",
    "\n",
    "\"question\"= what is the capital of Japan?\n",
    "\"answer\"= SELECT ?capital WHERE { dbr:Japan dbo:capital ?capital . }<|endoftext|>\n",
    "\n",
    "\"question\"= what is the capital of Italy?\n",
    "\"answer\"=\n",
    "\"\"\"\n",
    "\n",
    "inputs = tokenizer.encode_plus(prompt, return_tensors=\"pt\").to(device)\n",
    "outputs = model.generate(inputs['input_ids'], max_new_tokens=100, attention_mask=inputs['attention_mask'])\n",
    "print(tokenizer.decode(outputs[0]))"
   ]
  },
  {
   "cell_type": "code",
   "execution_count": 21,
   "id": "d49b332d",
   "metadata": {},
   "outputs": [
    {
     "name": "stdout",
     "output_type": "stream",
     "text": [
      "\n",
      "# write a SPARQL query with following prefixes:\n",
      "# PREFIX dbr: <http://dbpedia.org/resource/>\n",
      "# PREFIX dbo: <http://dbpedia.org/ontology/>\n",
      "\n",
      "# what is the capital of Japan?\n",
      "SELECT ?capital WHERE {\n",
      "  dbr:Japan dbo:capital ?capital .\n",
      "}\n",
      "\n",
      "\n",
      "# what is the population of Italy?\n",
      "SELECT ?population WHERE {\n",
      "  dbr:Italy dbo:populationTotal ?population .\n",
      "}\n",
      "\n",
      "\n",
      "#\n"
     ]
    }
   ],
   "source": [
    "# check for one-shot generalization\n",
    "\n",
    "prompt = \"\"\"\n",
    "# write a SPARQL query with following prefixes:\n",
    "# PREFIX dbr: <http://dbpedia.org/resource/>\n",
    "# PREFIX dbo: <http://dbpedia.org/ontology/>\n",
    "\n",
    "# what is the capital of Japan?\n",
    "SELECT ?capital WHERE {\n",
    "  dbr:Japan dbo:capital ?capital .\n",
    "}\n",
    "\n",
    "\n",
    "# what is the population of Italy?\n",
    "\"\"\"\n",
    "\n",
    "inputs = tokenizer.encode_plus(prompt, return_tensors=\"pt\").to(device)\n",
    "outputs = model.generate(inputs['input_ids'], max_new_tokens=100, attention_mask=inputs['attention_mask'])\n",
    "print(tokenizer.decode(outputs[0]))"
   ]
  },
  {
   "cell_type": "code",
   "execution_count": 22,
   "id": "6ced5ce5",
   "metadata": {},
   "outputs": [
    {
     "name": "stdout",
     "output_type": "stream",
     "text": [
      "\n",
      "# write a SPARQL query\n",
      "\n",
      "# what is the capital of Japan?\n",
      "SELECT ?capital WHERE {\n",
      "  dbr:Japan dbo:capital ?capital .\n",
      "}\n",
      "\n",
      "\n",
      "# what is the population of Italy?\n",
      "SELECT ?population WHERE {\n",
      "  dbr:Italy dbo:populationTotal ?population .\n",
      "}\n",
      "\n",
      "\n",
      "#\n"
     ]
    }
   ],
   "source": [
    "# check for one-shot generalization\n",
    "\n",
    "prompt = \"\"\"\n",
    "# write a SPARQL query\n",
    "\n",
    "# what is the capital of Japan?\n",
    "SELECT ?capital WHERE {\n",
    "  dbr:Japan dbo:capital ?capital .\n",
    "}\n",
    "\n",
    "\n",
    "# what is the population of Italy?\n",
    "\"\"\"\n",
    "\n",
    "inputs = tokenizer.encode_plus(prompt, return_tensors=\"pt\").to(device)\n",
    "outputs = model.generate(inputs['input_ids'], max_new_tokens=100, attention_mask=inputs['attention_mask'])\n",
    "print(tokenizer.decode(outputs[0]))"
   ]
  },
  {
   "cell_type": "code",
   "execution_count": null,
   "id": "209f8f2f",
   "metadata": {},
   "outputs": [],
   "source": [
    "<|endoftext|><sep>"
   ]
  },
  {
   "cell_type": "code",
   "execution_count": 34,
   "id": "8883e20d",
   "metadata": {},
   "outputs": [
    {
     "name": "stdout",
     "output_type": "stream",
     "text": [
      "\n",
      "# what is the capital of Japan?\n",
      "SELECT ?capital WHERE {\n",
      "  dbr:Japan dbo:capital ?capital .\n",
      "}<|endoftext|>\n",
      "\n",
      "\n",
      "# what is the population of Italy?\n",
      "<mask_1><|endoftext|><sep>\n",
      "#\n"
     ]
    }
   ],
   "source": [
    "# check for one-shot generalization\n",
    "\n",
    "prompt = \"\"\"\n",
    "# what is the capital of Japan?\n",
    "SELECT ?capital WHERE {\n",
    "  dbr:Japan dbo:capital ?capital .\n",
    "}<|endoftext|>\n",
    "\n",
    "\n",
    "# what is the population of Italy?\n",
    "<mask_1><|endoftext|><sep>\n",
    "\"\"\"\n",
    "\n",
    "inputs = tokenizer.encode_plus(prompt, return_tensors=\"pt\").to(device)\n",
    "outputs = model.generate(inputs['input_ids'], max_new_tokens=100, attention_mask=inputs['attention_mask'])\n",
    "print(tokenizer.decode(outputs[0]))"
   ]
  },
  {
   "cell_type": "code",
   "execution_count": 36,
   "id": "01a1878c",
   "metadata": {},
   "outputs": [
    {
     "data": {
      "text/plain": [
       "'\\n# what is the capital of Japan?\\nSELECT ?capital WHERE {\\n  dbr:Japan dbo:capital ?capital .\\n}<|endoftext|>\\n\\n\\n# what is the population of Italy?\\n<mask_1><|endoftext|><sep>\\n'"
      ]
     },
     "execution_count": 36,
     "metadata": {},
     "output_type": "execute_result"
    }
   ],
   "source": [
    "tokenizer.decode(inputs.input_ids[0])"
   ]
  },
  {
   "cell_type": "code",
   "execution_count": 41,
   "id": "8b16b2b4",
   "metadata": {},
   "outputs": [
    {
     "data": {
      "text/plain": [
       "[50317]"
      ]
     },
     "execution_count": 41,
     "metadata": {},
     "output_type": "execute_result"
    }
   ],
   "source": [
    "tokenizer.encode(['<sep>'])"
   ]
  },
  {
   "cell_type": "code",
   "execution_count": 37,
   "id": "6ed3a394",
   "metadata": {},
   "outputs": [
    {
     "data": {
      "text/plain": [
       "tensor([  198,     2,   644,   318,   262,  3139,   286,  2869,    30,   198,\n",
       "        46506,  5633, 27544, 33411,  1391,   198,   220,   288,  1671,    25,\n",
       "        16504,   288,  2127,    25, 27544,  5633, 27544,   764,   198,    92,\n",
       "        50256,   628,   198,     2,   644,   318,   262,  3265,   286,  8031,\n",
       "           30,   198, 51199, 50256, 50317,   198], device='cuda:0')"
      ]
     },
     "execution_count": 37,
     "metadata": {},
     "output_type": "execute_result"
    }
   ],
   "source": [
    "inputs.input_ids[0]"
   ]
  },
  {
   "cell_type": "code",
   "execution_count": 17,
   "id": "e4d4ae80",
   "metadata": {},
   "outputs": [
    {
     "name": "stdout",
     "output_type": "stream",
     "text": [
      "\n",
      "# write a SPARQL query with following prefixes:\n",
      "# PREFIX dbr: <http://dbpedia.org/resource/>\n",
      "# PREFIX dbo: <http://dbpedia.org/ontology/>\n",
      "\n",
      "# what is the capital of Japan?\n",
      "\n",
      "SELECT ?capital WHERE {\n",
      "  dbr:Japan dbo:capital ?capital .\n",
      "}\n",
      "\n",
      "\n",
      "# what is the capital of Italy?\n",
      "\n",
      "SELECT ?capital WHERE {\n",
      "  dbr:Italy dbo:capital ?capital .\n",
      "}\n",
      "\n",
      "\n",
      "#\n"
     ]
    }
   ],
   "source": [
    "prompt = \"\"\"\n",
    "# write a SPARQL query with following prefixes:\n",
    "# PREFIX dbr: <http://dbpedia.org/resource/>\n",
    "# PREFIX dbo: <http://dbpedia.org/ontology/>\n",
    "\n",
    "# what is the capital of Japan?\n",
    "\n",
    "SELECT ?capital WHERE {\n",
    "  dbr:Japan dbo:capital ?capital .\n",
    "}\n",
    "\n",
    "\n",
    "# what is the capital of Italy?\n",
    "\"\"\"\n",
    "\n",
    "inputs = tokenizer.encode_plus(prompt, return_tensors=\"pt\").to(device)\n",
    "outputs = model.generate(inputs['input_ids'], max_new_tokens=100, attention_mask=inputs['attention_mask'])\n",
    "print(tokenizer.decode(outputs[0]))"
   ]
  },
  {
   "cell_type": "code",
   "execution_count": 44,
   "id": "db9a1b91",
   "metadata": {},
   "outputs": [
    {
     "name": "stdout",
     "output_type": "stream",
     "text": [
      "\n",
      "# SPARQL query from question\n",
      "\n",
      "# question: what is the dbo:capital of dbr:Japan?\n",
      "\n",
      "#\n"
     ]
    }
   ],
   "source": [
    "prompt = \"\"\"\n",
    "# SPARQL query from question\n",
    "\n",
    "# question: what is the dbo:capital of dbr:Japan?\n",
    "\"\"\"\n",
    "\n",
    "inputs = tokenizer.encode_plus(prompt, return_tensors=\"pt\").to(device)\n",
    "outputs = model.generate(inputs['input_ids'], max_new_tokens=100, attention_mask=inputs['attention_mask'])\n",
    "print(tokenizer.decode(outputs[0]))"
   ]
  },
  {
   "cell_type": "code",
   "execution_count": 17,
   "id": "647dcddb",
   "metadata": {
    "scrolled": true
   },
   "outputs": [
    {
     "name": "stdout",
     "output_type": "stream",
     "text": [
      "\n",
      "# write a SPARQL query with following prefixes:\n",
      "# PREFIX dbr: <http://dbpedia.org/resource/>\n",
      "# PREFIX dbo: <http://dbpedia.org/ontology/>\n",
      "\n",
      "# what is the capital of Japan?\n",
      "\n",
      "SELECT ?capital WHERE {\n",
      "  dbr:Japan dbo:capital ?capital .\n",
      "}\n",
      "\n",
      "\n",
      "# what is the capital of Italy?\n",
      "\n",
      "SELECT ?capital WHERE {\n",
      "  dbr:Italy dbo:capital ?capital .\n",
      "}\n",
      "\n",
      "\n",
      "#\n"
     ]
    }
   ],
   "source": [
    "prompt = \"\"\"\n",
    "# write a SPARQL query with following prefixes:\n",
    "# PREFIX dbr: <http://dbpedia.org/resource/>\n",
    "# PREFIX dbo: <http://dbpedia.org/ontology/>\n",
    "\n",
    "# what is the capital of Japan?\n",
    "\n",
    "SELECT ?capital WHERE {\n",
    "  dbr:Japan dbo:capital ?capital .\n",
    "}\n",
    "\n",
    "\n",
    "# what is the capital of Italy?\n",
    "\"\"\"\n",
    "\n",
    "inputs = tokenizer.encode_plus(prompt, return_tensors=\"pt\").to(device)\n",
    "outputs = model.generate(inputs['input_ids'], max_new_tokens=100, attention_mask=inputs['attention_mask'])\n",
    "print(tokenizer.decode(outputs[0]))"
   ]
  },
  {
   "cell_type": "code",
   "execution_count": 45,
   "id": "7250fe73",
   "metadata": {},
   "outputs": [
    {
     "name": "stdout",
     "output_type": "stream",
     "text": [
      "\n",
      "# write a SPARQL query with following prefixes:\n",
      "# PREFIX dbr: <http://dbpedia.org/resource/>\n",
      "# PREFIX dbo: <http://dbpedia.org/ontology/>\n",
      "\n",
      "# what is the capital of Japan?\n",
      "\n",
      "SELECT ?capital WHERE {\n",
      "  dbr:Japan dbo:capital ?capital .\n",
      "}\n",
      "\n",
      "\n",
      "# people born in the capital of Italy?\n",
      "\n",
      "SELECT ?person WHERE {\n",
      "  ?person dbo:placeOfBirth dbr:Italy .\n",
      "  dbr:Italy dbo:capital ?capital .\n",
      "  ?person dbo:placeOfBirth ?capital .\n",
      "}\n",
      "\n",
      "\n",
      "#\n"
     ]
    }
   ],
   "source": [
    "prompt = \"\"\"\n",
    "# write a SPARQL query with following prefixes:\n",
    "# PREFIX dbr: <http://dbpedia.org/resource/>\n",
    "# PREFIX dbo: <http://dbpedia.org/ontology/>\n",
    "\n",
    "# what is the capital of Japan?\n",
    "\n",
    "SELECT ?capital WHERE {\n",
    "  dbr:Japan dbo:capital ?capital .\n",
    "}\n",
    "\n",
    "\n",
    "# people born in the capital of Italy?\n",
    "\"\"\"\n",
    "\n",
    "inputs = tokenizer.encode_plus(prompt, return_tensors=\"pt\").to(device)\n",
    "outputs = model.generate(inputs['input_ids'], max_new_tokens=100, attention_mask=inputs['attention_mask'])\n",
    "print(tokenizer.decode(outputs[0]))"
   ]
  },
  {
   "cell_type": "code",
   "execution_count": 46,
   "id": "293a98e8",
   "metadata": {},
   "outputs": [
    {
     "name": "stdout",
     "output_type": "stream",
     "text": [
      "\n",
      "# write a SPARQL query with following prefixes:\n",
      "# PREFIX dbr: <http://dbpedia.org/resource/>\n",
      "# PREFIX dbo: <http://dbpedia.org/ontology/>\n",
      "\n",
      "# what is the capital of Japan?\n",
      "\n",
      "SELECT ?capital WHERE {\n",
      "  dbr:Japan dbo:capital ?capital .\n",
      "}\n",
      "\n",
      "\n",
      "# people born in the capital of Italy before 2000?\n",
      "\n",
      "SELECT ?person WHERE {\n",
      "  ?person dbo:birthPlace dbr:Italy .\n",
      "  ?person dbo:birthDate ?birthDate .\n",
      "  FILTER(YEAR(?birthDate) < 2000)\n",
      "}\n",
      "\n",
      "\n",
      "#\n"
     ]
    }
   ],
   "source": [
    "prompt = \"\"\"\n",
    "# write a SPARQL query with following prefixes:\n",
    "# PREFIX dbr: <http://dbpedia.org/resource/>\n",
    "# PREFIX dbo: <http://dbpedia.org/ontology/>\n",
    "\n",
    "# what is the capital of Japan?\n",
    "\n",
    "SELECT ?capital WHERE {\n",
    "  dbr:Japan dbo:capital ?capital .\n",
    "}\n",
    "\n",
    "\n",
    "# people born in the capital of Italy before 2000?\n",
    "\"\"\"\n",
    "\n",
    "inputs = tokenizer.encode_plus(prompt, return_tensors=\"pt\").to(device)\n",
    "outputs = model.generate(inputs['input_ids'], max_new_tokens=100, attention_mask=inputs['attention_mask'])\n",
    "print(tokenizer.decode(outputs[0]))"
   ]
  },
  {
   "cell_type": "code",
   "execution_count": 48,
   "id": "08ba6372",
   "metadata": {
    "scrolled": false
   },
   "outputs": [
    {
     "name": "stdout",
     "output_type": "stream",
     "text": [
      "\n",
      "# write a SPARQL query with following prefixes:\n",
      "# PREFIX dbr: <http://dbpedia.org/resource/>\n",
      "# PREFIX dbo: <http://dbpedia.org/ontology/>\n",
      "\n",
      "# what is the capital of Japan?\n",
      "\n",
      "SELECT ?capital WHERE {\n",
      "  dbr:Japan dbo:capital ?capital .\n",
      "}\n",
      "\n",
      "\n",
      "# List of 10 people born in the capital of Italy before 2000?\n",
      "\n",
      "SELECT ?person WHERE {\n",
      "  ?person dbo:birthPlace dbr:Italy .\n",
      "  ?person dbo:birthDate ?birthDate .\n",
      "  FILTER (?birthDate < \"2000-01-01\"^^xsd:date)\n",
      "}\n",
      "LIMIT 10\n",
      "\n",
      "\n",
      "#\n"
     ]
    }
   ],
   "source": [
    "prompt = \"\"\"\n",
    "# write a SPARQL query with following prefixes:\n",
    "# PREFIX dbr: <http://dbpedia.org/resource/>\n",
    "# PREFIX dbo: <http://dbpedia.org/ontology/>\n",
    "\n",
    "# what is the capital of Japan?\n",
    "\n",
    "SELECT ?capital WHERE {\n",
    "  dbr:Japan dbo:capital ?capital .\n",
    "}\n",
    "\n",
    "\n",
    "# List of 10 people born in the capital of Italy before 2000?\n",
    "\"\"\"\n",
    "\n",
    "inputs = tokenizer.encode_plus(prompt, return_tensors=\"pt\").to(device)\n",
    "outputs = model.generate(inputs['input_ids'], max_new_tokens=100, attention_mask=inputs['attention_mask'])\n",
    "print(tokenizer.decode(outputs[0]))"
   ]
  },
  {
   "cell_type": "code",
   "execution_count": 21,
   "id": "b52ce177",
   "metadata": {
    "scrolled": false
   },
   "outputs": [
    {
     "name": "stdout",
     "output_type": "stream",
     "text": [
      "# write a SPARQL query with following prefixes:\n",
      "# PREFIX dbr: <http://dbpedia.org/resource/>\n",
      "# PREFIX dbo: <http://dbpedia.org/ontology/>\n",
      "\n",
      "# what is the capital of Japan?\n",
      "SELECT ?capital WHERE {dbr:Japan dbo:capital ?capital .}\n",
      "\n",
      "\n",
      "# people born in the capital of Italy before 2000?\n",
      "SELECT ?person WHERE {\n",
      "  ?person dbo:birthPlace dbr:Italy .\n",
      "  ?person dbo:birthDate ?birthDate .\n",
      "  FILTER(YEAR(?birthDate) < 2000)\n",
      "}\n",
      "\n",
      "\n",
      "#\n"
     ]
    }
   ],
   "source": [
    "prompt = \"\"\"# write a SPARQL query with following prefixes:\n",
    "# PREFIX dbr: <http://dbpedia.org/resource/>\n",
    "# PREFIX dbo: <http://dbpedia.org/ontology/>\n",
    "\n",
    "# what is the capital of Japan?\n",
    "SELECT ?capital WHERE {dbr:Japan dbo:capital ?capital .}\n",
    "\n",
    "\n",
    "# people born in the capital of Italy before 2000?\n",
    "\"\"\"\n",
    "\n",
    "inputs = tokenizer.encode_plus(prompt, return_tensors=\"pt\").to(device)\n",
    "outputs = model.generate(inputs['input_ids'], max_new_tokens=100, attention_mask=inputs['attention_mask'])\n",
    "print(tokenizer.decode(outputs[0]))"
   ]
  },
  {
   "cell_type": "code",
   "execution_count": 49,
   "id": "ecbd6de7",
   "metadata": {
    "scrolled": false
   },
   "outputs": [
    {
     "name": "stdout",
     "output_type": "stream",
     "text": [
      "\n",
      "# write a SPARQL query with following prefixes:\n",
      "# PREFIX dbr: <http://dbpedia.org/resource/>\n",
      "# PREFIX dbo: <http://dbpedia.org/ontology/>\n",
      "\n",
      "# what is the capital of Japan?\n",
      "\n",
      "SELECT ?capital WHERE {\n",
      "  dbr:Japan dbo:capital ?capital .\n",
      "}\n",
      "\n",
      "\n",
      "# who killed Ceaser?\n",
      "\n",
      "SELECT ?person WHERE {\n",
      "  dbr:Ceaser dbo:deathPlace ?place .\n",
      "  ?place dbo:deathDate \"1861-01-01\"^^xsd:date .\n",
      "  ?person dbo:death ?place .\n",
      "  ?person dbo:birthDate \"1861-01-01\"^^xsd:date .\n",
      "}\n",
      "\n",
      "\n",
      "#\n"
     ]
    }
   ],
   "source": [
    "prompt = \"\"\"\n",
    "# write a SPARQL query with following prefixes:\n",
    "# PREFIX dbr: <http://dbpedia.org/resource/>\n",
    "# PREFIX dbo: <http://dbpedia.org/ontology/>\n",
    "\n",
    "# what is the capital of Japan?\n",
    "\n",
    "SELECT ?capital WHERE {\n",
    "  dbr:Japan dbo:capital ?capital .\n",
    "}\n",
    "\n",
    "\n",
    "# who killed Ceaser?\n",
    "\"\"\"\n",
    "\n",
    "inputs = tokenizer.encode_plus(prompt, return_tensors=\"pt\").to(device)\n",
    "outputs = model.generate(inputs['input_ids'], max_new_tokens=100, attention_mask=inputs['attention_mask'])\n",
    "print(tokenizer.decode(outputs[0]))"
   ]
  },
  {
   "cell_type": "code",
   "execution_count": 4,
   "id": "fa4144b0",
   "metadata": {},
   "outputs": [
    {
     "name": "stdout",
     "output_type": "stream",
     "text": [
      "End of Sequence token:\t<|endoftext|>\t with id=50256\n",
      "\n"
     ]
    }
   ],
   "source": [
    "## adjusting EOS token to control the length of the output \n",
    "\n",
    "eos_token = tokenizer.eos_token\n",
    "eos_token_id = tokenizer.eos_token_id\n",
    "\n",
    "print(f'End of Sequence token:\\t{eos_token}\\t with id={eos_token_id}\\n')"
   ]
  },
  {
   "cell_type": "code",
   "execution_count": 8,
   "id": "8a7a8ace",
   "metadata": {},
   "outputs": [
    {
     "name": "stdout",
     "output_type": "stream",
     "text": [
      "\n",
      "Compelete \"answer\" for \"question\" which is a SPARQL query towards the DBpedia knowledge base using these prefixes:\n",
      "PREFIX dbr: <http://dbpedia.org/resource/>\n",
      "PREFIX dbo: <http://dbpedia.org/ontology/>\n",
      "PREFIX dct: <http://purl.org/dc/terms/> \n",
      "PREFIX dbc: <http://dbpedia.org/resource/Category:><|endoftext|>\n",
      "\n",
      "\"question\"= what is the capital of Japan?\n",
      "\"answer\"= SELECT ?capital WHERE { dbr:Japan dbo:capital ?capital . }<|endoftext|>\n",
      "\n",
      "\"question\"= what is the capital of Italy?\n",
      "\"answer\"=\n",
      "SELECT ?capital WHERE {\n",
      "  dbr:Italy dbo:capital ?capital .\n",
      "  FILTER (lang(?capital) = 'en')\n",
      "}\n",
      "\n",
      "\"question\"= what is the capital of Italy?\n",
      "\"answer\"=\n",
      "SELECT ?capital WHERE {\n",
      "  dbr:Italy dbo:capital ?capital .\n",
      "  FILTER (lang(?capital) = 'en')\n",
      "}\n",
      "\n",
      "\"question\"= what is the capital of Italy?\n"
     ]
    }
   ],
   "source": [
    "prompt = \"\"\"\n",
    "Compelete \"answer\" for \"question\" which is a SPARQL query towards the DBpedia knowledge base using these prefixes:\n",
    "PREFIX dbr: <http://dbpedia.org/resource/>\n",
    "PREFIX dbo: <http://dbpedia.org/ontology/>\n",
    "PREFIX dct: <http://purl.org/dc/terms/> \n",
    "PREFIX dbc: <http://dbpedia.org/resource/Category:><|endoftext|>\n",
    "\n",
    "\"question\"= what is the capital of Japan?\n",
    "\"answer\"= SELECT ?capital WHERE { dbr:Japan dbo:capital ?capital . }<|endoftext|>\n",
    "\n",
    "\"question\"= what is the capital of Italy?\n",
    "\"answer\"=\n",
    "\"\"\"\n",
    "\n",
    "\n",
    "inputs = tokenizer.encode_plus(prompt, return_tensors=\"pt\").to(device)\n",
    "outputs = model.generate(inputs['input_ids'], max_new_tokens=100, attention_mask=inputs['attention_mask'])\n",
    "print(tokenizer.decode(outputs[0]))"
   ]
  },
  {
   "cell_type": "code",
   "execution_count": 11,
   "id": "92cbcb88",
   "metadata": {},
   "outputs": [
    {
     "name": "stdout",
     "output_type": "stream",
     "text": [
      "\n",
      "\"question\"= what is the capital of Japan?\n",
      "\"answer\"= SELECT ?capital WHERE { dbr:Japan dbo:capital ?capital . }\n",
      "\n",
      "\"question\"= what is the capital of Italy?\n",
      "\"answer\"=\n",
      "\n",
      "### Response: \"question\"= what is the capital of Italy?\n",
      "\"answer\"= SELECT ?capital WHERE { dbr:Italy dbo:capital ?capital . }\n",
      "\n",
      "\"question\"= what is the capital of Japan?\n",
      "\"answer\"= SELECT ?capital WHERE { dbr:Japan dbo:capital ?capital . }\n",
      "\n",
      "\"question\"= what is the capital of France?\n",
      "\"answer\"= SELECT ?capital WHERE { dbr:France d\n"
     ]
    }
   ],
   "source": [
    "prompt = \"\"\"\n",
    "\"question\"= what is the capital of Japan?\n",
    "\"answer\"= SELECT ?capital WHERE { dbr:Japan dbo:capital ?capital . }\n",
    "\n",
    "\"question\"= what is the capital of Italy?\n",
    "\"answer\"=\n",
    "\"\"\"\n",
    "\n",
    "\n",
    "inputs = tokenizer.encode_plus(prompt, return_tensors=\"pt\").to(device)\n",
    "outputs = model.generate(inputs['input_ids'], max_new_tokens=100, attention_mask=inputs['attention_mask'])\n",
    "print(tokenizer.decode(outputs[0]))"
   ]
  },
  {
   "cell_type": "code",
   "execution_count": 42,
   "id": "9e981744",
   "metadata": {},
   "outputs": [
    {
     "data": {
      "text/plain": [
       "tensor([[  198,     2,   644,   318,   262,  3139,   286,  2869,    30,   198,\n",
       "         46506,  5633, 27544, 33411,  1391,   198,   220,   288,  1671,    25,\n",
       "         16504,   288,  2127,    25, 27544,  5633, 27544,   764,   198,    92,\n",
       "         50256,   628,   198,     2,   644,   318,   262,  3265,   286,  8031,\n",
       "            30,   198, 51199, 50256, 50317,   198]], device='cuda:0')"
      ]
     },
     "execution_count": 42,
     "metadata": {},
     "output_type": "execute_result"
    }
   ],
   "source": [
    "inputs['input_ids']"
   ]
  },
  {
   "cell_type": "code",
   "execution_count": 13,
   "id": "db919a7d",
   "metadata": {},
   "outputs": [
    {
     "name": "stdout",
     "output_type": "stream",
     "text": [
      "\n",
      "No EOS token found in tokenized input\n"
     ]
    }
   ],
   "source": [
    "if eos_token_id not in inputs['input_ids'][0]:\n",
    "    print(f'\\nNo EOS token found in tokenized input')"
   ]
  },
  {
   "cell_type": "code",
   "execution_count": 17,
   "id": "f3f22498",
   "metadata": {},
   "outputs": [
    {
     "name": "stdout",
     "output_type": "stream",
     "text": [
      "# write a SPARQL query with following prefixes:\n",
      "# PREFIX dbr: <http://dbpedia.org/resource/>\n",
      "# PREFIX dbo: <http://dbpedia.org/ontology/>\n",
      "\n",
      "# what is the capital of Japan?\n",
      "SELECT ?capital WHERE { dbr:Japan dbo:capital ?capital . }\n",
      "\n",
      "\n",
      "# what was the population of France in 2000?\n",
      "SELECT ?population WHERE { dbr:France dbo:populationTotal ?population . FILTER(?year=\"2000\") }\n",
      "\n",
      "#\n"
     ]
    }
   ],
   "source": [
    "prompt = \"\"\"# write a SPARQL query with following prefixes:\n",
    "# PREFIX dbr: <http://dbpedia.org/resource/>\n",
    "# PREFIX dbo: <http://dbpedia.org/ontology/>\n",
    "\n",
    "# what is the capital of Japan?\n",
    "SELECT ?capital WHERE { dbr:Japan dbo:capital ?capital . }\n",
    "\n",
    "\n",
    "# what was the population of France in 2000?\n",
    "\"\"\"\n",
    "\n",
    "\n",
    "inputs = tokenizer.encode_plus(prompt, return_tensors=\"pt\").to(device)\n",
    "outputs = model.generate(inputs['input_ids'], max_new_tokens=100, attention_mask=inputs['attention_mask'])\n",
    "print(tokenizer.decode(outputs[0]))\n"
   ]
  },
  {
   "cell_type": "code",
   "execution_count": 64,
   "id": "fa0dc291",
   "metadata": {},
   "outputs": [
    {
     "name": "stdout",
     "output_type": "stream",
     "text": [
      "\n"
     ]
    }
   ],
   "source": [
    "print(truncate_at_eom(tokenizer.decode(outputs[0]))[len(prompt):])"
   ]
  },
  {
   "cell_type": "code",
   "execution_count": 62,
   "id": "ea93d7da",
   "metadata": {},
   "outputs": [
    {
     "name": "stdout",
     "output_type": "stream",
     "text": [
      "The capital of France is Paris. For more information, visit our website.\n"
     ]
    }
   ],
   "source": [
    "def truncate_at_eom(text):\n",
    "    return text.split('<eom>', 1)[0].strip()\n",
    "\n",
    "# Example\n",
    "output = \"The capital of France is Paris. For more information, visit our website.<eom> random characters or irrelevant text here...\"\n",
    "truncated_output = truncate_at_eom(output)\n",
    "print(truncated_output)\n"
   ]
  },
  {
   "cell_type": "code",
   "execution_count": 3,
   "id": "106a1d65",
   "metadata": {},
   "outputs": [
    {
     "name": "stderr",
     "output_type": "stream",
     "text": [
      "/home/mehrzad/anaconda3/envs/dbpedia/lib/python3.10/site-packages/bitsandbytes/nn/modules.py:224: UserWarning: Input type into Linear4bit is torch.float16, but bnb_4bit_compute_type=torch.float32 (default). This will lead to slow inference or training speed.\n",
      "  warnings.warn(f'Input type into Linear4bit is torch.float16, but bnb_4bit_compute_type=torch.float32 (default). This will lead to slow inference or training speed.')\n"
     ]
    },
    {
     "name": "stdout",
     "output_type": "stream",
     "text": [
      "\n",
      "Write a SPARQL query to generate \n",
      "a table that shows the top 10 countries with the highest population density, \n",
      "calculated by dividing the number of people living in each country by the \n",
      "area of that country in square kilometers. The table should also include the \n",
      "population of each country.\n",
      "\n",
      "### Response: Here's the SPARQL query that generates the table you requested:\n",
      "\n",
      "```\n",
      "PREFIX rdf: <http://www.w3.org/1999/02/22-rd\n"
     ]
    },
    {
     "ename": "NameError",
     "evalue": "name 'eos_token_id' is not defined",
     "output_type": "error",
     "traceback": [
      "\u001b[0;31m---------------------------------------------------------------------------\u001b[0m",
      "\u001b[0;31mNameError\u001b[0m                                 Traceback (most recent call last)",
      "Cell \u001b[0;32mIn[3], line 11\u001b[0m\n\u001b[1;32m      7\u001b[0m outputs \u001b[38;5;241m=\u001b[39m model\u001b[38;5;241m.\u001b[39mgenerate(inputs[\u001b[38;5;124m'\u001b[39m\u001b[38;5;124minput_ids\u001b[39m\u001b[38;5;124m'\u001b[39m], max_new_tokens\u001b[38;5;241m=\u001b[39m\u001b[38;5;241m100\u001b[39m, attention_mask\u001b[38;5;241m=\u001b[39minputs[\u001b[38;5;124m'\u001b[39m\u001b[38;5;124mattention_mask\u001b[39m\u001b[38;5;124m'\u001b[39m])\n\u001b[1;32m      8\u001b[0m \u001b[38;5;28mprint\u001b[39m(tokenizer\u001b[38;5;241m.\u001b[39mdecode(outputs[\u001b[38;5;241m0\u001b[39m]))\n\u001b[0;32m---> 11\u001b[0m \u001b[38;5;28;01mif\u001b[39;00m \u001b[43meos_token_id\u001b[49m \u001b[38;5;129;01mnot\u001b[39;00m \u001b[38;5;129;01min\u001b[39;00m inputs[\u001b[38;5;124m'\u001b[39m\u001b[38;5;124minput_ids\u001b[39m\u001b[38;5;124m'\u001b[39m][\u001b[38;5;241m0\u001b[39m]:\n\u001b[1;32m     12\u001b[0m     \u001b[38;5;28mprint\u001b[39m(\u001b[38;5;124mf\u001b[39m\u001b[38;5;124m'\u001b[39m\u001b[38;5;130;01m\\n\u001b[39;00m\u001b[38;5;130;01m\\n\u001b[39;00m\u001b[38;5;124mNo EOS token found in tokenized input\u001b[39m\u001b[38;5;124m'\u001b[39m)\n",
      "\u001b[0;31mNameError\u001b[0m: name 'eos_token_id' is not defined"
     ]
    }
   ],
   "source": [
    "prompt = \"\"\"\n",
    "Write a SPARQL query to generate \n",
    "\"\"\"\n",
    "\n",
    "\n",
    "inputs = tokenizer.encode_plus(prompt, return_tensors=\"pt\").to(device)\n",
    "outputs = model.generate(inputs['input_ids'], max_new_tokens=100, attention_mask=inputs['attention_mask'])\n",
    "print(tokenizer.decode(outputs[0]))\n",
    "\n",
    "\n",
    "if eos_token_id not in inputs['input_ids'][0]:\n",
    "    print(f'\\n\\nNo EOS token found in tokenized input')"
   ]
  },
  {
   "cell_type": "code",
   "execution_count": 40,
   "id": "e731249f",
   "metadata": {},
   "outputs": [
    {
     "name": "stdout",
     "output_type": "stream",
     "text": [
      "\n",
      "    return render_template('<eom><|endoftext|><filename><mask_1>/<mask_2>/<mask_3>.py\n",
      "#\n"
     ]
    }
   ],
   "source": [
    "def format(prefix, suffix):\n",
    "    return prefix + \"<mask_1>\" + suffix + \"<|endoftext|>\" + \"<sep>\" + \"<mask_1>\"\n",
    "\n",
    "\n",
    "prefix = \"def hello_world():\\n    \"\n",
    "suffix = \"    return name\"\n",
    "text = format(prefix, suffix)\n",
    "\n",
    "\n",
    "\n",
    "inputs = tokenizer.encode_plus(text, return_tensors=\"pt\").to(device)\n",
    "outputs = model.generate(inputs['input_ids'], max_new_tokens=100)\n",
    "print(tokenizer.decode(outputs[0])[len(text):])\n",
    "\n",
    "\n",
    "\n",
    "\n",
    "# input_ids = tokenizer(text, return_tensors=\"pt\").input_ids\n",
    "# generated_ids = model.generate(input_ids, max_length=128)\n",
    "# print(tokenizer.decode(generated_ids[0], skip_special_tokens=False)[len(text):])"
   ]
  },
  {
   "cell_type": "code",
   "execution_count": 53,
   "id": "9374769d",
   "metadata": {
    "scrolled": true
   },
   "outputs": [
    {
     "name": "stdout",
     "output_type": "stream",
     "text": [
      "def print_hello_world():\n",
      "<mask_1><|endoftext|><sep><mask_1>\n"
     ]
    }
   ],
   "source": []
  },
  {
   "cell_type": "code",
   "execution_count": 56,
   "id": "0d98c045",
   "metadata": {
    "scrolled": true
   },
   "outputs": [
    {
     "name": "stdout",
     "output_type": "stream",
     "text": [
      "def print_hello_world():\n",
      "    <mask_1><|endoftext|><sep><mask_1>\n"
     ]
    }
   ],
   "source": [
    "prefix = \"def print_hello_world():\\n    \"\n",
    "suffix = \"\"\n",
    "text = format(prefix, suffix)\n",
    "input_ids = tokenizer(text, return_tensors=\"pt\").input_ids\n",
    "\n",
    "print(text)\n",
    "# generated_ids = model.generate(input_ids, max_length=500)\n",
    "# print(tokenizer.decode(generated_ids[0], skip_special_tokens=False))\n",
    "   \n",
    "\n"
   ]
  },
  {
   "cell_type": "code",
   "execution_count": 58,
   "id": "9017a268",
   "metadata": {},
   "outputs": [
    {
     "data": {
      "text/plain": [
       "tensor([[ 4299,  3601,    62, 31373,    62,  6894, 33529,   198, 50284, 51199,\n",
       "         50256, 50317, 51199]])"
      ]
     },
     "execution_count": 58,
     "metadata": {},
     "output_type": "execute_result"
    }
   ],
   "source": [
    "input_ids"
   ]
  },
  {
   "cell_type": "code",
   "execution_count": 59,
   "id": "f74f38e3",
   "metadata": {},
   "outputs": [
    {
     "data": {
      "text/plain": [
       "'def print_hello_world():\\n    <mask_1><|endoftext|><sep><mask_1>'"
      ]
     },
     "execution_count": 59,
     "metadata": {},
     "output_type": "execute_result"
    }
   ],
   "source": [
    "tokenizer.decode(input_ids[0])"
   ]
  },
  {
   "cell_type": "code",
   "execution_count": 60,
   "id": "8f4487f7",
   "metadata": {},
   "outputs": [
    {
     "name": "stdout",
     "output_type": "stream",
     "text": [
      "def print_hello_world():\n",
      "    <mask_1><|endoftext|><sep><mask_1>\n",
      "    print(\"Hello World<eom><|endoftext|><reponame><mask_1>/<mask_2>-<mask_3>\n",
      "import<mask_4>\n",
      "import<mask_5>\n",
      "import<mask_6>\n",
      "import<mask_7>\n",
      "import<mask_8>\n",
      "import<mask_9>\n",
      "import<mask_10>\n",
      "import<mask_11>\n",
      "import<mask_12>\n",
      "import<mask_13>\n",
      "import<mask_14>\n",
      "import<mask_15>\n",
      "import<mask_16>\n",
      "import<mask_17>\n",
      "import<mask_18>\n",
      "import<mask_19>\n",
      "import<mask_20>\n",
      "import<mask_21>\n",
      "import<mask_22>\n",
      "import<mask_23>\n",
      "import<mask_24>\n",
      "import<mask_25>\n",
      "import<mask_26>\n",
      "import<mask_27>\n",
      "import<mask_28>\n",
      "import<mask_29>\n",
      "import<mask_30>\n",
      "import<mask_31>\n",
      "import\n"
     ]
    }
   ],
   "source": [
    "inputs = tokenizer.encode_plus(text, return_tensors=\"pt\").to(device)\n",
    "outputs = model.generate(inputs['input_ids'], max_new_tokens=100, attention_mask=inputs['attention_mask'])\n",
    "print(tokenizer.decode(outputs[0]))\n"
   ]
  },
  {
   "cell_type": "code",
   "execution_count": null,
   "id": "a2c12cdf",
   "metadata": {},
   "outputs": [],
   "source": []
  },
  {
   "cell_type": "markdown",
   "id": "c921c053",
   "metadata": {},
   "source": [
    "#\n",
    "# Evaluation\n",
    "### Initial BLEU score for QALD-9-plus set\n"
   ]
  },
  {
   "cell_type": "code",
   "execution_count": 53,
   "id": "1edeeef1",
   "metadata": {},
   "outputs": [
    {
     "data": {
      "text/plain": [
       "{'id': '99',\n",
       " 'question': [{'language': 'en',\n",
       "   'string': 'What is the time zone of Salt Lake City?'},\n",
       "  {'language': 'de', 'string': 'In welcher Zeitzone liegt Salt Lake City?'},\n",
       "  {'language': 'de', 'string': 'Was ist die Zeitzone von Salt Lake City?'},\n",
       "  {'language': 'ru', 'string': 'Какой часовой пояс в Солт-Лейк-Сити'},\n",
       "  {'language': 'ru',\n",
       "   'string': 'В каком часовом поясе расположен Солт-Лейк-Сити?'},\n",
       "  {'language': 'uk', 'string': 'Який часовий пояс у Солт-Лейк Сіті?'},\n",
       "  {'language': 'lt', 'string': 'Kokia Solt Leik Sičio laiko zona?'},\n",
       "  {'language': 'be', 'string': 'Які гадзінны пояс у Солт-Лэйк-Сіці'},\n",
       "  {'language': 'lt', 'string': 'Kokia laiko juosta yra Solt Leik Sityjes'},\n",
       "  {'language': 'ba', 'string': 'Ниндей вакыт поясы Солт-Лейк-Ситила'},\n",
       "  {'language': 'es',\n",
       "   'string': '¿En qué zona horaria se encuentra Salt Lake City?',\n",
       "   'keywords': 'Salt Lake City,  zona horaria'}],\n",
       " 'query': {'sparql': 'PREFIX res: <http://dbpedia.org/resource/> PREFIX dbp: <http://dbpedia.org/property/> SELECT DISTINCT ?uri WHERE { res:Salt_Lake_City <http://dbpedia.org/ontology/timeZone> ?uri }'},\n",
       " 'answers': [{'head': {'link': [], 'vars': ['uri']},\n",
       "   'results': {'bindings': [{'uri': {'type': 'uri',\n",
       "       'value': 'http://dbpedia.org/resource/Mountain_Time_Zone'}}]}}]}"
      ]
     },
     "execution_count": 53,
     "metadata": {},
     "output_type": "execute_result"
    }
   ],
   "source": [
    "import json\n",
    "\n",
    "with open('data/qald_9_plus_test_dbpedia.json', 'r') as f:\n",
    "    test_data = json.load(f)\n",
    "    \n",
    "test_data['questions'][0]"
   ]
  },
  {
   "cell_type": "code",
   "execution_count": 58,
   "id": "14f670fd",
   "metadata": {},
   "outputs": [
    {
     "name": "stdout",
     "output_type": "stream",
     "text": [
      "150 pairs extracted from test set:  \n",
      "\n",
      "What is the time zone of Salt Lake City?\n",
      "\n",
      " PREFIX res: <http://dbpedia.org/resource/>\n",
      " PREFIX dbp: <http://dbpedia.org/property/>\n",
      " SELECT DISTINCT ?uri WHERE { res:Salt_Lake_City <http://dbpedia.org/ontology/timeZone>\n",
      " ?uri }\n"
     ]
    }
   ],
   "source": [
    "# extracting pairs of question/sparql    \n",
    "    \n",
    "nl_questions, sparql_queries =[],[]\n",
    "\n",
    "for data in test_data['questions']:\n",
    "    nl_questions.append(\n",
    "        next((item['string'] for item in data['question'] if item['language'] == 'en'), None)\n",
    "    )\n",
    "    sparql_queries.append(data['query']['sparql'])\n",
    "    \n",
    "\n",
    "print(f'{len(nl_questions)} pairs extracted from test set: ', \"\\n\")\n",
    "print(nl_questions[0])\n",
    "print('\\n', sparql_queries[0].replace(\">\", '>\\n'))"
   ]
  },
  {
   "cell_type": "code",
   "execution_count": 94,
   "id": "14d40327",
   "metadata": {},
   "outputs": [
    {
     "name": "stdout",
     "output_type": "stream",
     "text": [
      "{'SELECT', 'ASK', 'PREFIX'}\n",
      "88\n"
     ]
    }
   ],
   "source": [
    "# not all sparql queries are with explicit prefixes at the begining\n",
    "\n",
    "ls=[]\n",
    "\n",
    "for query in sparql_queries:\n",
    "    ls.append(query.split()[0])\n",
    "    \n",
    "print(set(ls))\n",
    "print(ls.count('PREFIX'))"
   ]
  },
  {
   "cell_type": "markdown",
   "id": "567eaa9e",
   "metadata": {},
   "source": [
    "##\n",
    "For now, let's avoid dealing with "
   ]
  },
  {
   "cell_type": "code",
   "execution_count": 105,
   "id": "6c617bbe",
   "metadata": {},
   "outputs": [
    {
     "name": "stdout",
     "output_type": "stream",
     "text": [
      "# write a SPARQL query with following prefixes:\n",
      "# PREFIX dct: <http://purl.org/dc/terms/>\n",
      "# PREFIX dbc: <http://dbpedia.org/resource/Category:>\n",
      "\n",
      "# Who killed Caesar?\n"
     ]
    }
   ],
   "source": [
    "import re\n",
    "\n",
    "def extract_prefixes(query):\n",
    "    pattern = re.compile(r'(PREFIX\\s+[\\w\\-]+:\\s+<[^>]+>)')\n",
    "    return pattern.findall(query)\n",
    "\n",
    "\n",
    "                \n",
    "def format_prompt(nl_questions, sparql_queries):\n",
    "    prompts = []\n",
    "    base_prompt = \"# write a SPARQL query with following prefixes:\\n\"\n",
    "\n",
    "    for question, query in zip(nl_questions, sparql_queries):\n",
    "        if query.split()[0] == 'PREFIX':\n",
    "            prefix_lines = extract_prefixes(query)\n",
    "            prompt_prefixes = '\\n'.join(f\"# {prefix}\" for prefix in prefix_lines)\n",
    "            full_prompt = base_prompt + prompt_prefixes + \"\\n\\n# \" + question\n",
    "\n",
    "            prompts.append((full_prompt, question, query))\n",
    "\n",
    "    return prompts\n",
    "\n",
    "        \n",
    "prompts= format_prompt(nl_questions,sparql_queries)\n",
    "print(prompts[1][0])\n",
    "# print(prompts[1][1],'\\n')\n",
    "# print(prompts[1][2])"
   ]
  },
  {
   "cell_type": "code",
   "execution_count": 107,
   "id": "4dca5508",
   "metadata": {},
   "outputs": [
    {
     "name": "stdout",
     "output_type": "stream",
     "text": [
      "PREFIX dct: <http://purl.org/dc/terms/> PREFIX dbc: <http://dbpedia.org/resource/Category:> SELECT DISTINCT ?uri WHERE { ?uri dct:subject dbc:Assassins_of_Julius_Caesar }\n"
     ]
    }
   ],
   "source": [
    "print(sparql_queries[1])"
   ]
  },
  {
   "cell_type": "code",
   "execution_count": 95,
   "id": "08aa96e6",
   "metadata": {},
   "outputs": [
    {
     "data": {
      "text/plain": [
       "88"
      ]
     },
     "execution_count": 95,
     "metadata": {},
     "output_type": "execute_result"
    }
   ],
   "source": [
    "len(prompts)"
   ]
  },
  {
   "cell_type": "code",
   "execution_count": 75,
   "id": "b337f632",
   "metadata": {
    "scrolled": true
   },
   "outputs": [
    {
     "data": {
      "text/plain": [
       "{'http://dbpedia.org/',\n",
       " 'http://dbpedia.org/class/yago/',\n",
       " 'http://dbpedia.org/class/yago/City108524735',\n",
       " 'http://dbpedia.org/class/yago/WikicatAmericanVegans',\n",
       " 'http://dbpedia.org/class/yago/WikicatJapaneseMusicalInstruments',\n",
       " 'http://dbpedia.org/class/yago/WikicatStatesOfTheUnitedStates',\n",
       " 'http://dbpedia.org/ontology/',\n",
       " 'http://dbpedia.org/ontology/Airline',\n",
       " 'http://dbpedia.org/ontology/Airport',\n",
       " 'http://dbpedia.org/ontology/Animal',\n",
       " 'http://dbpedia.org/ontology/Astronaut',\n",
       " 'http://dbpedia.org/ontology/Automobile',\n",
       " 'http://dbpedia.org/ontology/BasketballPlayer',\n",
       " 'http://dbpedia.org/ontology/Book',\n",
       " 'http://dbpedia.org/ontology/City',\n",
       " 'http://dbpedia.org/ontology/Country',\n",
       " 'http://dbpedia.org/ontology/Film',\n",
       " 'http://dbpedia.org/ontology/Library',\n",
       " 'http://dbpedia.org/ontology/Person',\n",
       " 'http://dbpedia.org/ontology/Place',\n",
       " 'http://dbpedia.org/ontology/PoliticalParty',\n",
       " 'http://dbpedia.org/ontology/Politician',\n",
       " 'http://dbpedia.org/ontology/River',\n",
       " 'http://dbpedia.org/ontology/Scientist',\n",
       " 'http://dbpedia.org/ontology/Town',\n",
       " 'http://dbpedia.org/ontology/University',\n",
       " 'http://dbpedia.org/ontology/Volcano',\n",
       " 'http://dbpedia.org/ontology/Writer',\n",
       " 'http://dbpedia.org/ontology/activeYearsEndYear',\n",
       " 'http://dbpedia.org/ontology/affiliation',\n",
       " 'http://dbpedia.org/ontology/almaMater',\n",
       " 'http://dbpedia.org/ontology/assembly',\n",
       " 'http://dbpedia.org/ontology/author',\n",
       " 'http://dbpedia.org/ontology/award',\n",
       " 'http://dbpedia.org/ontology/birthPlace',\n",
       " 'http://dbpedia.org/ontology/capital',\n",
       " 'http://dbpedia.org/ontology/child',\n",
       " 'http://dbpedia.org/ontology/city',\n",
       " 'http://dbpedia.org/ontology/conservationStatus',\n",
       " 'http://dbpedia.org/ontology/country',\n",
       " 'http://dbpedia.org/ontology/creator',\n",
       " 'http://dbpedia.org/ontology/currency',\n",
       " 'http://dbpedia.org/ontology/deathDate',\n",
       " 'http://dbpedia.org/ontology/elevation',\n",
       " 'http://dbpedia.org/ontology/field',\n",
       " 'http://dbpedia.org/ontology/foundedBy',\n",
       " 'http://dbpedia.org/ontology/foundingDate',\n",
       " 'http://dbpedia.org/ontology/headquarter',\n",
       " 'http://dbpedia.org/ontology/height',\n",
       " 'http://dbpedia.org/ontology/influencedBy',\n",
       " 'http://dbpedia.org/ontology/instrument',\n",
       " 'http://dbpedia.org/ontology/isPartOf',\n",
       " 'http://dbpedia.org/ontology/knownFor',\n",
       " 'http://dbpedia.org/ontology/language',\n",
       " 'http://dbpedia.org/ontology/league',\n",
       " 'http://dbpedia.org/ontology/locatedInArea',\n",
       " 'http://dbpedia.org/ontology/location',\n",
       " 'http://dbpedia.org/ontology/locationCountry',\n",
       " 'http://dbpedia.org/ontology/manufacturer',\n",
       " 'http://dbpedia.org/ontology/maximumDepth',\n",
       " 'http://dbpedia.org/ontology/nationality',\n",
       " 'http://dbpedia.org/ontology/numberOfStudents',\n",
       " 'http://dbpedia.org/ontology/occupation',\n",
       " 'http://dbpedia.org/ontology/operator',\n",
       " 'http://dbpedia.org/ontology/populationTotal',\n",
       " 'http://dbpedia.org/ontology/riverMouth',\n",
       " 'http://dbpedia.org/ontology/routeStart',\n",
       " 'http://dbpedia.org/ontology/spokenIn',\n",
       " 'http://dbpedia.org/ontology/spouse',\n",
       " 'http://dbpedia.org/ontology/starring',\n",
       " 'http://dbpedia.org/ontology/subsidiary',\n",
       " 'http://dbpedia.org/ontology/targetAirport',\n",
       " 'http://dbpedia.org/ontology/timeZone',\n",
       " 'http://dbpedia.org/property/',\n",
       " 'http://dbpedia.org/property/admittancedate',\n",
       " 'http://dbpedia.org/property/assembly',\n",
       " 'http://dbpedia.org/property/atmosphereComposition',\n",
       " 'http://dbpedia.org/property/author',\n",
       " 'http://dbpedia.org/property/brewery',\n",
       " 'http://dbpedia.org/property/calories',\n",
       " 'http://dbpedia.org/property/crewMembers',\n",
       " 'http://dbpedia.org/property/currencyCode',\n",
       " 'http://dbpedia.org/property/date',\n",
       " 'http://dbpedia.org/property/deathCause',\n",
       " 'http://dbpedia.org/property/densityrank',\n",
       " 'http://dbpedia.org/property/established',\n",
       " 'http://dbpedia.org/property/founders',\n",
       " 'http://dbpedia.org/property/frequentFlyer',\n",
       " 'http://dbpedia.org/property/governor',\n",
       " 'http://dbpedia.org/property/hazards',\n",
       " 'http://dbpedia.org/property/length',\n",
       " 'http://dbpedia.org/property/manufacturer',\n",
       " 'http://dbpedia.org/property/members',\n",
       " 'http://dbpedia.org/property/postalabbreviation',\n",
       " 'http://dbpedia.org/property/presidentEnd',\n",
       " 'http://dbpedia.org/property/presidentStart',\n",
       " 'http://dbpedia.org/property/satellites',\n",
       " 'http://dbpedia.org/property/title',\n",
       " 'http://dbpedia.org/property/trailheads',\n",
       " 'http://dbpedia.org/property/voiceactor',\n",
       " 'http://dbpedia.org/resource/',\n",
       " 'http://dbpedia.org/resource/Academy_Award',\n",
       " 'http://dbpedia.org/resource/Air_China',\n",
       " 'http://dbpedia.org/resource/Amanda_Palmer',\n",
       " 'http://dbpedia.org/resource/Apollo_11',\n",
       " 'http://dbpedia.org/resource/Baguette',\n",
       " 'http://dbpedia.org/resource/Barack_Obama',\n",
       " 'http://dbpedia.org/resource/Bart_Simpson',\n",
       " 'http://dbpedia.org/resource/Batman',\n",
       " 'http://dbpedia.org/resource/Boston_Tea_Party',\n",
       " 'http://dbpedia.org/resource/Butch_Otter',\n",
       " 'http://dbpedia.org/resource/California',\n",
       " 'http://dbpedia.org/resource/Cat_Stevens',\n",
       " 'http://dbpedia.org/resource/Category:',\n",
       " 'http://dbpedia.org/resource/Category:James_Bond_films',\n",
       " 'http://dbpedia.org/resource/Charmed',\n",
       " 'http://dbpedia.org/resource/Chiemsee',\n",
       " 'http://dbpedia.org/resource/China',\n",
       " 'http://dbpedia.org/resource/Computer_science',\n",
       " 'http://dbpedia.org/resource/Count_Dracula',\n",
       " 'http://dbpedia.org/resource/Czech_Republic',\n",
       " 'http://dbpedia.org/resource/Danielle_Steel',\n",
       " 'http://dbpedia.org/resource/Diana,_Princess_of_Wales',\n",
       " 'http://dbpedia.org/resource/Dublin_Airport',\n",
       " 'http://dbpedia.org/resource/Elon_Musk',\n",
       " 'http://dbpedia.org/resource/Emperor_of_China',\n",
       " 'http://dbpedia.org/resource/Estonia',\n",
       " 'http://dbpedia.org/resource/Euro',\n",
       " 'http://dbpedia.org/resource/Facebook',\n",
       " 'http://dbpedia.org/resource/Flash_flood',\n",
       " 'http://dbpedia.org/resource/Fort_Knox',\n",
       " 'http://dbpedia.org/resource/Germany',\n",
       " 'http://dbpedia.org/resource/Glasgow_International_Airport',\n",
       " 'http://dbpedia.org/resource/Grand_Canyon',\n",
       " 'http://dbpedia.org/resource/Harry_Potter',\n",
       " 'http://dbpedia.org/resource/Intel',\n",
       " 'http://dbpedia.org/resource/Ivy_League',\n",
       " 'http://dbpedia.org/resource/Jacques_Cousteau',\n",
       " 'http://dbpedia.org/resource/John_F._Kennedy',\n",
       " 'http://dbpedia.org/resource/Lance_Bass',\n",
       " 'http://dbpedia.org/resource/Lovesick_(1983_film)',\n",
       " 'http://dbpedia.org/resource/Mars',\n",
       " 'http://dbpedia.org/resource/Michael_Jackson',\n",
       " 'http://dbpedia.org/resource/Moon',\n",
       " 'http://dbpedia.org/resource/National_Basketball_Association',\n",
       " 'http://dbpedia.org/resource/Netherlands',\n",
       " 'http://dbpedia.org/resource/Nobel_Prize_in_Literature',\n",
       " 'http://dbpedia.org/resource/North_Sea',\n",
       " 'http://dbpedia.org/resource/Pakistan',\n",
       " 'http://dbpedia.org/resource/Paraguay',\n",
       " \"http://dbpedia.org/resource/People's_Republic_of_China\",\n",
       " 'http://dbpedia.org/resource/Piccadilly',\n",
       " 'http://dbpedia.org/resource/Pilsner_Urquell',\n",
       " 'http://dbpedia.org/resource/Poet',\n",
       " 'http://dbpedia.org/resource/Rhine',\n",
       " 'http://dbpedia.org/resource/Robert_F._Kennedy',\n",
       " 'http://dbpedia.org/resource/Socrates',\n",
       " 'http://dbpedia.org/resource/TUI_Travel',\n",
       " 'http://dbpedia.org/resource/Taiko',\n",
       " 'http://dbpedia.org/resource/Teenage_Mutant_Ninja_Turtles',\n",
       " 'http://dbpedia.org/resource/The_Big_Bang_Theory',\n",
       " 'http://dbpedia.org/resource/United_Kingdom',\n",
       " 'http://dbpedia.org/resource/United_States',\n",
       " 'http://dbpedia.org/resource/Wikipedia',\n",
       " 'http://dbpedia.org/resource/Worst_Case_Scenario_(film)',\n",
       " 'http://purl.org/dc/terms/',\n",
       " 'http://www.w3.org/1999/02/22-rdf-syntax-ns#',\n",
       " 'http://www.w3.org/1999/02/22-rdf-syntax-ns#langString',\n",
       " 'http://www.w3.org/1999/02/22-rdf-syntax-ns#type',\n",
       " 'http://www.w3.org/2000/01/rdf-schema#',\n",
       " 'http://www.w3.org/2000/01/rdf-schema#label',\n",
       " 'http://www.w3.org/2001/XMLSchema#',\n",
       " 'http://www.w3.org/2002/07/owl#',\n",
       " 'http://xmlns.com/foaf/0.1/',\n",
       " 'http://xmlns.com/foaf/0.1/gender',\n",
       " 'http://xmlns.com/foaf/0.1/name',\n",
       " 'http://xmlns.com/foaf/0.1/nick'}"
      ]
     },
     "execution_count": 75,
     "metadata": {},
     "output_type": "execute_result"
    }
   ],
   "source": [
    "import re\n",
    "\n",
    "def find_unique_uri(queries):\n",
    "    uri_pattern = re.compile(r'<(http://[^>]+)>')\n",
    "    http_addresses = set()\n",
    "    \n",
    "    for query in queries:\n",
    "        uris = uri_pattern.findall(query)\n",
    "        http_addresses.update(uris)\n",
    "\n",
    "    return http_addresses\n",
    "\n",
    "find_unique_uri(sparql_queries)"
   ]
  },
  {
   "cell_type": "code",
   "execution_count": 77,
   "id": "0f1bb6a1",
   "metadata": {},
   "outputs": [],
   "source": [
    "def convert_to_prefix_format(query):\n",
    "    prefix_mappings = {\n",
    "        'http://dbpedia.org/resource/': 'res',\n",
    "        'http://dbpedia.org/ontology/': 'dbo',\n",
    "        'http://dbpedia.org/property/': 'dbp',\n",
    "        'http://xmlns.com/foaf/0.1/': 'foaf',\n",
    "        'http://www.w3.org/2001/XMLSchema#': 'xsd',        \n",
    "        'http://www.w3.org/2002/07/owl#': 'owl',\n",
    "        'http://www.w3.org/1999/02/22-rdf-syntax-ns#': 'rdf',\n",
    "    }\n",
    "    \n",
    "    uris = set(re.findall(r'<([^>]+)>', query))\n",
    "    \n",
    "    prefix_statements = []\n",
    "    for base_uri, prefix in prefix_mappings.items():\n",
    "        for uri in uris:\n",
    "            if uri.startswith(base_uri):\n",
    "                local_name = uri[len(base_uri):]\n",
    "                query = query.replace(uri, f\"{prefix}:{local_name}\")\n",
    "                if f\"PREFIX {prefix}:\" not in prefix_statements:\n",
    "                    prefix_statements.append(f\"PREFIX {prefix}: <{base_uri}>\")\n",
    "    \n",
    "    return ' '.join(prefix_statements) + ' ' + query"
   ]
  }
 ],
 "metadata": {
  "kernelspec": {
   "display_name": "dbpedia-env",
   "language": "python",
   "name": "dbpedia"
  },
  "language_info": {
   "codemirror_mode": {
    "name": "ipython",
    "version": 3
   },
   "file_extension": ".py",
   "mimetype": "text/x-python",
   "name": "python",
   "nbconvert_exporter": "python",
   "pygments_lexer": "ipython3",
   "version": "3.10.12"
  }
 },
 "nbformat": 4,
 "nbformat_minor": 5
}
